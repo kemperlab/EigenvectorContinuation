{
 "cells": [
  {
   "cell_type": "code",
   "execution_count": 39,
   "id": "af38b916-7641-43dc-927f-9983c3293916",
   "metadata": {},
   "outputs": [],
   "source": [
    "import numpy as np\n",
    "from hamiltonian import *\n",
    "from reconstruct_lcu import *\n",
    "from continuers import *\n",
    "from qsearch_bundle_circuit import *\n",
    "import pickle"
   ]
  },
  {
   "cell_type": "code",
   "execution_count": 40,
   "id": "ff16a97c-6387-4b7f-b6e2-0a20da9fafc1",
   "metadata": {},
   "outputs": [],
   "source": [
    "def get_exact_wavefunction(Bzlist,J,Bx,N,pbc):\n",
    "    # Bzlist = np.linspace(Bzmin,Bzmax,100)\n",
    "    eval_stor = np.zeros([len(Bzlist),2**N])\n",
    "    \n",
    "    evecs_stor = []\n",
    "    for iBz, Bz in enumerate(Bzlist):\n",
    "        ham = XY_hamiltonian(J=J,Bz=Bz,Bx=Bx,N=N,pbc=pbc)\n",
    "        w, v = np.linalg.eigh(ham)\n",
    "        eval_stor[iBz,:] = np.linalg.eigvalsh(ham)\n",
    "        evecs_stor.append(v)\n",
    "    \n",
    "    return  eval_stor,evecs_stor\n"
   ]
  },
  {
   "cell_type": "code",
   "execution_count": 45,
   "id": "417fada8-18c3-44a9-b035-4f2aaaff6135",
   "metadata": {},
   "outputs": [],
   "source": [
    "def fidelity(Bzmax=4):\n",
    "    J = -1\n",
    "    Bx = 0.1\n",
    "    N = 2\n",
    "    pbc = False\n",
    "\n",
    "    fig, ax, Bzlist, eval_stor = show_XY_spectrum(N=N, Bzmin=0, Bzmax=Bzmax, Bx=Bx, J=J, pbc=pbc)\n",
    "  \n",
    "    Bzlist_training = [0.5, 1.3]\n",
    "   \n",
    "    training_paramlist = [[J, Bx, Bz, N, pbc] for Bz in Bzlist_training]\n",
    "    # _qc for passing parameters to the quantum circuit, because I prefer dictionaries than lists\n",
    "    training_paramlist_qc = [{\"J\": J, \"Bx\": Bx, \"Bz\": Bz, \"N\": N, \"pbc\": pbc} for Bz in Bzlist_training]\n",
    "\n",
    "    if 'ax' in locals():\n",
    "        for b in Bzlist_training:\n",
    "            ax.axvline(b)\n",
    "\n",
    "    Bzlist_target = np.linspace(0.0,Bzmax,50)\n",
    "\n",
    "    target_paramlist = [[J, Bx, Bz, N, pbc] for Bz in Bzlist_target]\n",
    "    # target_paramlist_qc = [{\"J\": J, \"Bx\": Bx, \"Bz\": Bz, \"N\": N, \"pbc\": pbc} for Bz in Bzlist_target]\n",
    "    #################### INPUT parameters over ######################################\n",
    "\n",
    "    # Object that knows how to deal with the various operations needed\n",
    "    vectorspace = vector_methods(XY_hamiltonian)\n",
    "\n",
    "\n",
    "    EVcontinuer = vector_continuer(vectorspace,\n",
    "                                   XY_hamiltonian,\n",
    "                                   Mag_op,\n",
    "                                   training_paramlist,\n",
    "                                   target_paramlist,\n",
    "                                   N)\n",
    "\n",
    "    EVcontinuer.get_base_eigenvectors()\n",
    "   \n",
    "    EVcontinuer.get_target_eigenvectors(ortho=False)   \n",
    "    # LCUcoeffslist = EVcontinuer.LCU_coeffs_list\n",
    "    # base_vecs = EVcontinuer.base_vecs\n",
    "    eval_stor,evecs_stor = get_exact_wavefunction(Bzlist=Bzlist_target,J=J,Bx=Bx,N=N,pbc=pbc)\n",
    "    full_vecs = EVcontinuer.target_full_evecs\n",
    "    fidelity_stor = np.zeros([len(Bzlist_target),len(Bzlist_training)])\n",
    "    if 'ax' in locals():\n",
    "        for ip in range(len(training_paramlist)):\n",
    "            ax.plot(Bzlist_target, np.real(EVcontinuer.target_evals[:, ip]), 'o', color=\"b\")\n",
    "    fignamepng = \"plots/testing/spectrumforfidelity2site.png\"\n",
    "    fig.savefig(fignamepng,bbox_inches=\"tight\")\n",
    "    print(\"eigen vectors\")        \n",
    "    for i in range(len(Bzlist_target)):\n",
    "        v = evecs_stor[i]\n",
    "        for j in range(len(Bzlist_training)):\n",
    "            # print(v[:,j])\n",
    "            # print(full_vecs[len(Bzlist_training)*i+j])\n",
    "            # print(np.vdot(v[:,j],full_vecs[len(Bzlist_training)*i+j]))\n",
    "            fidelity_stor[i,j] = (np.abs(np.vdot(v[:,j],full_vecs[len(Bzlist_training)*i+j])))**2\n",
    "            # print(fidelity_stor[i,j],\"\\n\")\n",
    "        # LCU_coeffs = LCUcoeffslist[i]\n",
    "        # ECvec = np.zeros_like(v[:,0])\n",
    "        # for j in range(len(LCUcoeffslist[i])):            \n",
    "        #     ECvec += LCU_coeffs[j]*base_vecs[j]\n",
    "        # print(ECvec)\n",
    "        # print(np.vdot(ECvec,v[:,0]))\n",
    "    fig,ax = plt.subplots()\n",
    "    for ip in range(len(training_paramlist)):\n",
    "        ax.plot(Bzlist_target,fidelity_stor[:,ip],marker=\"o\",label = str(ip))\n",
    "        ax.legend()\n",
    "    fignamepng = \"plots/testing/fidelity2site.png\"\n",
    "    fig.savefig(fignamepng,bbox_inches=\"tight\")"
   ]
  },
  {
   "cell_type": "code",
   "execution_count": 46,
   "id": "84c05f58-af35-4c48-b4ec-93fc30e01736",
   "metadata": {},
   "outputs": [
    {
     "name": "stdout",
     "output_type": "stream",
     "text": [
      "[-1, 0.1, 0.5, 2, False]\n",
      "Adding vector for parameter set [-1, 0.1, 0.5, 2, False]\n",
      "[-1, 0.1, 1.3, 2, False]\n",
      "Adding vector for parameter set [-1, 0.1, 1.3, 2, False]\n",
      "\n",
      "eigen vectors\n"
     ]
    },
    {
     "data": {
      "image/png": "[encoded data removed]",
      "text/plain": [
       "<Figure size 432x288 with 1 Axes>"
      ]
     },
     "metadata": {
      "needs_background": "light"
     },
     "output_type": "display_data"
    },
    {
     "data": {
      "image/png": "[encoded data removed]",
      "text/plain": [
       "<Figure size 432x288 with 1 Axes>"
      ]
     },
     "metadata": {
      "needs_background": "light"
     },
     "output_type": "display_data"
    }
   ],
   "source": [
    "fidelity()"
   ]
  },
  {
   "cell_type": "code",
   "execution_count": null,
   "id": "6aef47fd-ec3d-44a1-ab7c-12a63d7c421c",
   "metadata": {},
   "outputs": [],
   "source": []
  }
 ],
 "metadata": {
  "kernelspec": {
   "display_name": "Python 3 (ipykernel)",
   "language": "python",
   "name": "python3"
  },
  "language_info": {
   "codemirror_mode": {
    "name": "ipython",
    "version": 3
   },
   "file_extension": ".py",
   "mimetype": "text/x-python",
   "name": "python",
   "nbconvert_exporter": "python",
   "pygments_lexer": "ipython3",
   "version": "3.7.9"
  }
 },
 "nbformat": 4,
 "nbformat_minor": 5
}
