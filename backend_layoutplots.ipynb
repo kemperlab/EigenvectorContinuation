{
 "cells": [
  {
   "cell_type": "code",
   "execution_count": 8,
   "id": "63050b64-7e55-4b08-b79b-797dc42e878f",
   "metadata": {},
   "outputs": [],
   "source": [
    "from qiskit.visualization import plot_histogram, plot_gate_map, plot_circuit_layout\n",
    "from qiskit import IBMQ"
   ]
  },
  {
   "cell_type": "code",
   "execution_count": 11,
   "id": "40030a21-0edb-4c51-b448-7cf64dc5af97",
   "metadata": {},
   "outputs": [],
   "source": [
    "# backend_name='ibmq_montreal'\n",
    "# backend_name='ibmq_manila'\n",
    "backend_name='ibmq_bogota'\n",
    "# IBMQ.load_account()\n",
    "ncsu_provider = IBMQ.get_provider(hub='ibm-q-ncsu', group='nc-state', project='physics-of-spin-')\n",
    "backend = ncsu_provider.get_backend(backend_name)\n",
    "# t = datetime(day=12, month=7, year=2021, hour=10)\n",
    "# properties = backend.properties(datetime=t)\n",
    "\n",
    "fig = plot_gate_map(backend=backend)\n",
    "figname = \"paper_figures/schematicplots/\"+backend_name+\"_layout.pdf\"\n",
    "fig.savefig(figname, bbox_inches=\"tight\")\n"
   ]
  },
  {
   "cell_type": "code",
   "execution_count": null,
   "id": "fb2dda67-aded-47f0-98a8-a1abff5f06d3",
   "metadata": {},
   "outputs": [],
   "source": []
  }
 ],
 "metadata": {
  "kernelspec": {
   "display_name": "Python 3 (ipykernel)",
   "language": "python",
   "name": "python3"
  },
  "language_info": {
   "codemirror_mode": {
    "name": "ipython",
    "version": 3
   },
   "file_extension": ".py",
   "mimetype": "text/x-python",
   "name": "python",
   "nbconvert_exporter": "python",
   "pygments_lexer": "ipython3",
   "version": "3.7.9"
  }
 },
 "nbformat": 4,
 "nbformat_minor": 5
}
